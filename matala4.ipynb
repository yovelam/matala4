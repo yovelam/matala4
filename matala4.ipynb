{
 "cells": [
  {
   "cell_type": "code",
   "execution_count": 62,
   "metadata": {},
   "outputs": [],
   "source": [
    "import json, requests\n",
    "from collections import Counter"
   ]
  },
  {
   "cell_type": "code",
   "execution_count": 67,
   "metadata": {
    "scrolled": false
   },
   "outputs": [
    {
     "name": "stdout",
     "output_type": "stream",
     "text": [
      "Destination: İstanbul, Turkey\n",
      "Distance: 1,815 km\n",
      "Time duration: 20 hours 32 mins\n",
      "Longitude: 28.9783589\n",
      "Latitude: 41.0082376\n",
      "\n",
      "Destination: Amsterdam, Netherlands\n",
      "Distance: 4,528 km\n",
      "Time duration: 1 day 23 hours\n",
      "Longitude: 4.9041389\n",
      "Latitude: 52.3675734\n",
      "\n",
      "Destination: Valletta, Malta\n",
      "Distance: 3,795 km\n",
      "Time duration: 2 days 3 hours\n",
      "Longitude: 14.5145528\n",
      "Latitude: 35.8989085\n",
      "\n",
      "Destination: Basel, Switzerland\n",
      "Distance: 4,092 km\n",
      "Time duration: 1 day 20 hours\n",
      "Longitude: 7.5885761\n",
      "Latitude: 47.5595986\n",
      "\n",
      "Destination: Kotor, Montenegro\n",
      "Distance: 3,015 km\n",
      "Time duration: 1 day 12 hours\n",
      "Longitude: 18.771234\n",
      "Latitude: 42.424662\n",
      "\n",
      "The farest cities from Tel Aviv are:\n",
      "Amsterdam, Netherlands\n",
      "Basel, Switzerland\n",
      "Valletta, Malta\n"
     ]
    }
   ],
   "source": [
    "myfile=open('dests.txt', 'r', encoding='utf-8')\n",
    "dests=myfile.readlines()\n",
    "api_key='My_API_Key'\n",
    "url_1='https://maps.googleapis.com/maps/api/distancematrix/json?'\n",
    "url_2='https://maps.googleapis.com/maps/api/geocode/json?'\n",
    "data_dic={}\n",
    "lst_of_data=[]\n",
    "distance_dic={}\n",
    "for dest in dests:\n",
    "    dis=requests.get(url_1+'origins= '+ 'תל%אביב'+ '&destinations= '+ dest+ '&key= '+ api_key).json()\n",
    "    geo=requests.get(url_2+'address= '+ dest+ '&key= '+ api_key).json()\n",
    "    distance=dis[\"rows\"][0][\"elements\"][0][\"distance\"][\"text\"]\n",
    "    time=dis[\"rows\"][0][\"elements\"][0][\"duration\"][\"text\"]\n",
    "    longitude=geo[\"results\"][0][\"geometry\"][\"location\"][\"lng\"]\n",
    "    latitude=geo[\"results\"][0][\"geometry\"][\"location\"][\"lat\"]\n",
    "    data=(distance, time, longitude, latitude)\n",
    "    destination=dis[\"destination_addresses\"][0]\n",
    "    data_dic[destination]=data\n",
    "    lst_of_data.append(data_dic)\n",
    "    print(\"Destination:\", destination)\n",
    "    print(\"Distance:\", distance)\n",
    "    print(\"Time duration:\", time)\n",
    "    print(\"Longitude:\", longitude)\n",
    "    print(\"Latitude:\", latitude)\n",
    "    print()\n",
    "    distance_dic[destination]=distance\n",
    "k=Counter(distance_dic)\n",
    "farest=k.most_common(3)\n",
    "print(\"The farest cities from Tel Aviv are:\")\n",
    "for i in farest:\n",
    "    print(i[0])"
   ]
  },
  {
   "cell_type": "code",
   "execution_count": null,
   "metadata": {},
   "outputs": [],
   "source": []
  }
 ],
 "metadata": {
  "kernelspec": {
   "display_name": "Python 3",
   "language": "python",
   "name": "python3"
  },
  "language_info": {
   "codemirror_mode": {
    "name": "ipython",
    "version": 3
   },
   "file_extension": ".py",
   "mimetype": "text/x-python",
   "name": "python",
   "nbconvert_exporter": "python",
   "pygments_lexer": "ipython3",
   "version": "3.8.5"
  }
 },
 "nbformat": 4,
 "nbformat_minor": 4
}
